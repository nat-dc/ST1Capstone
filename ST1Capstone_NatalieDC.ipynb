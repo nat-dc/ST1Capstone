{
  "nbformat": 4,
  "nbformat_minor": 0,
  "metadata": {
    "colab": {
      "provenance": [],
      "toc_visible": true
    },
    "kernelspec": {
      "name": "python3",
      "display_name": "Python 3"
    },
    "language_info": {
      "name": "python"
    }
  },
  "cells": [
    {
      "cell_type": "code",
      "execution_count": 1,
      "metadata": {
        "colab": {
          "base_uri": "https://localhost:8080/"
        },
        "id": "nFdPJCnk3Ie1",
        "outputId": "b82b0c77-283b-45ee-9dea-070c21a91ad9"
      },
      "outputs": [
        {
          "output_type": "stream",
          "name": "stdout",
          "text": [
            "Drive already mounted at /content/drive; to attempt to forcibly remount, call drive.mount(\"/content/drive\", force_remount=True).\n"
          ]
        }
      ],
      "source": [
        "from google.colab import drive\n",
        "drive.mount('/content/drive')"
      ]
    },
    {
      "cell_type": "code",
      "source": [
        "!pip install -q https://github.com/pandas-profiling/pandas-profiling/archive/master.zip"
      ],
      "metadata": {
        "colab": {
          "base_uri": "https://localhost:8080/"
        },
        "collapsed": true,
        "id": "LBAgoh4xq4iZ",
        "outputId": "39605a20-b40b-4ef6-a357-42c6002b24b0"
      },
      "execution_count": 2,
      "outputs": [
        {
          "output_type": "stream",
          "name": "stdout",
          "text": [
            "  Preparing metadata (setup.py) ... \u001b[?25l\u001b[?25hdone\n"
          ]
        }
      ]
    },
    {
      "cell_type": "code",
      "source": [
        "import os\n",
        "import pandas as pd\n",
        "import numpy as np\n",
        "import matplotlib.pyplot as plt\n",
        "import seaborn as sns\n",
        "import missingno as msno\n",
        "import plotly.graph_objects as go\n",
        "import plotly.express as px\n",
        "%matplotlib inline\n",
        "import warnings\n",
        "warnings.filterwarnings('ignore')\n",
        "\n",
        "from pandas_profiling import ProfileReport"
      ],
      "metadata": {
        "id": "DnNknawe4Nc4"
      },
      "execution_count": 3,
      "outputs": []
    },
    {
      "cell_type": "code",
      "source": [
        "df = pd.read_csv('/content/drive/MyDrive/ST1Capstone/chess_games.csv')"
      ],
      "metadata": {
        "id": "vmD6yuhJ4RVX"
      },
      "execution_count": 4,
      "outputs": []
    },
    {
      "cell_type": "markdown",
      "source": [
        "# EXPLORATORY DATA ANALYSIS\n"
      ],
      "metadata": {
        "id": "yyWatAHwwvV0"
      }
    },
    {
      "cell_type": "markdown",
      "source": [
        "Model data"
      ],
      "metadata": {
        "id": "aZiF1WyzFSyf"
      }
    },
    {
      "cell_type": "code",
      "source": [
        "df"
      ],
      "metadata": {
        "id": "kHL6ofHT42e3",
        "colab": {
          "base_uri": "https://localhost:8080/",
          "height": 1000
        },
        "outputId": "3823b82c-b45e-46d3-ca57-b18ba79d5c28"
      },
      "execution_count": 5,
      "outputs": [
        {
          "output_type": "execute_result",
          "data": {
            "text/plain": [
              "       game_id  rated  turns victory_status winner time_increment  \\\n",
              "0            1  False     13    Out of Time  White           15+2   \n",
              "1            2   True     16         Resign  Black           5+10   \n",
              "2            3   True     61           Mate  White           5+10   \n",
              "3            4   True     61           Mate  White           20+0   \n",
              "4            5   True     95           Mate  White           30+3   \n",
              "...        ...    ...    ...            ...    ...            ...   \n",
              "20053    20054   True     24         Resign  White          10+10   \n",
              "20054    20055   True     82           Mate  Black           10+0   \n",
              "20055    20056   True     35           Mate  White           10+0   \n",
              "20056    20057   True    109         Resign  White           10+0   \n",
              "20057    20058   True     78           Mate  Black           10+0   \n",
              "\n",
              "            white_id  white_rating            black_id  black_rating  \\\n",
              "0           bourgris          1500                a-00          1191   \n",
              "1               a-00          1322           skinnerua          1261   \n",
              "2             ischia          1496                a-00          1500   \n",
              "3      daniamurashov          1439        adivanov2009          1454   \n",
              "4          nik221107          1523        adivanov2009          1469   \n",
              "...              ...           ...                 ...           ...   \n",
              "20053        belcolt          1691            jamboger          1220   \n",
              "20054       jamboger          1233  farrukhasomiddinov          1196   \n",
              "20055       jamboger          1219        schaaksmurf3          1286   \n",
              "20056   marcodisogno          1360            jamboger          1227   \n",
              "20057       jamboger          1235               ffbob          1339   \n",
              "\n",
              "                                                   moves opening_code  \\\n",
              "0      d4 d5 c4 c6 cxd5 e6 dxe6 fxe6 Nf3 Bb4+ Nc3 Ba5...          D10   \n",
              "1      d4 Nc6 e4 e5 f4 f6 dxe5 fxe5 fxe5 Nxe5 Qd4 Nc6...          B00   \n",
              "2      e4 e5 d3 d6 Be3 c6 Be2 b5 Nd2 a5 a4 c5 axb5 Nc...          C20   \n",
              "3      d4 d5 Nf3 Bf5 Nc3 Nf6 Bf4 Ng4 e3 Nc6 Be2 Qd7 O...          D02   \n",
              "4      e4 e5 Nf3 d6 d4 Nc6 d5 Nb4 a3 Na6 Nc3 Be7 b4 N...          C41   \n",
              "...                                                  ...          ...   \n",
              "20053  d4 f5 e3 e6 Nf3 Nf6 Nc3 b6 Be2 Bb7 O-O Be7 Ne5...          A80   \n",
              "20054  d4 d6 Bf4 e5 Bg3 Nf6 e3 exd4 exd4 d5 c3 Bd6 Bd...          A41   \n",
              "20055  d4 d5 Bf4 Nc6 e3 Nf6 c3 e6 Nf3 Be7 Bd3 O-O Nbd...          D00   \n",
              "20056  e4 d6 d4 Nf6 e5 dxe5 dxe5 Qxd1+ Kxd1 Nd5 c4 Nb...          B07   \n",
              "20057  d4 d5 Bf4 Na6 e3 e6 c3 Nf6 Nf3 Bd7 Nbd2 b5 Bd3...          D00   \n",
              "\n",
              "       opening_moves                        opening_fullname  \\\n",
              "0                  5        Slav Defense: Exchange Variation   \n",
              "1                  4  Nimzowitsch Defense: Kennedy Variation   \n",
              "2                  3   King's Pawn Game: Leonardis Variation   \n",
              "3                  3  Queen's Pawn Game: Zukertort Variation   \n",
              "4                  5                        Philidor Defense   \n",
              "...              ...                                     ...   \n",
              "20053              2                           Dutch Defense   \n",
              "20054              2                            Queen's Pawn   \n",
              "20055              3         Queen's Pawn Game: Mason Attack   \n",
              "20056              4                            Pirc Defense   \n",
              "20057              3         Queen's Pawn Game: Mason Attack   \n",
              "\n",
              "         opening_shortname opening_response    opening_variation  \n",
              "0             Slav Defense              NaN   Exchange Variation  \n",
              "1      Nimzowitsch Defense              NaN    Kennedy Variation  \n",
              "2         King's Pawn Game              NaN  Leonardis Variation  \n",
              "3        Queen's Pawn Game              NaN  Zukertort Variation  \n",
              "4         Philidor Defense              NaN                  NaN  \n",
              "...                    ...              ...                  ...  \n",
              "20053        Dutch Defense              NaN                  NaN  \n",
              "20054         Queen's Pawn              NaN                  NaN  \n",
              "20055    Queen's Pawn Game              NaN         Mason Attack  \n",
              "20056         Pirc Defense              NaN                  NaN  \n",
              "20057    Queen's Pawn Game              NaN         Mason Attack  \n",
              "\n",
              "[20058 rows x 17 columns]"
            ],
            "text/html": [
              "\n",
              "  <div id=\"df-c65bf7d8-36c4-44f6-8c7f-15e7eca7c3f8\">\n",
              "    <div class=\"colab-df-container\">\n",
              "      <div>\n",
              "<style scoped>\n",
              "    .dataframe tbody tr th:only-of-type {\n",
              "        vertical-align: middle;\n",
              "    }\n",
              "\n",
              "    .dataframe tbody tr th {\n",
              "        vertical-align: top;\n",
              "    }\n",
              "\n",
              "    .dataframe thead th {\n",
              "        text-align: right;\n",
              "    }\n",
              "</style>\n",
              "<table border=\"1\" class=\"dataframe\">\n",
              "  <thead>\n",
              "    <tr style=\"text-align: right;\">\n",
              "      <th></th>\n",
              "      <th>game_id</th>\n",
              "      <th>rated</th>\n",
              "      <th>turns</th>\n",
              "      <th>victory_status</th>\n",
              "      <th>winner</th>\n",
              "      <th>time_increment</th>\n",
              "      <th>white_id</th>\n",
              "      <th>white_rating</th>\n",
              "      <th>black_id</th>\n",
              "      <th>black_rating</th>\n",
              "      <th>moves</th>\n",
              "      <th>opening_code</th>\n",
              "      <th>opening_moves</th>\n",
              "      <th>opening_fullname</th>\n",
              "      <th>opening_shortname</th>\n",
              "      <th>opening_response</th>\n",
              "      <th>opening_variation</th>\n",
              "    </tr>\n",
              "  </thead>\n",
              "  <tbody>\n",
              "    <tr>\n",
              "      <th>0</th>\n",
              "      <td>1</td>\n",
              "      <td>False</td>\n",
              "      <td>13</td>\n",
              "      <td>Out of Time</td>\n",
              "      <td>White</td>\n",
              "      <td>15+2</td>\n",
              "      <td>bourgris</td>\n",
              "      <td>1500</td>\n",
              "      <td>a-00</td>\n",
              "      <td>1191</td>\n",
              "      <td>d4 d5 c4 c6 cxd5 e6 dxe6 fxe6 Nf3 Bb4+ Nc3 Ba5...</td>\n",
              "      <td>D10</td>\n",
              "      <td>5</td>\n",
              "      <td>Slav Defense: Exchange Variation</td>\n",
              "      <td>Slav Defense</td>\n",
              "      <td>NaN</td>\n",
              "      <td>Exchange Variation</td>\n",
              "    </tr>\n",
              "    <tr>\n",
              "      <th>1</th>\n",
              "      <td>2</td>\n",
              "      <td>True</td>\n",
              "      <td>16</td>\n",
              "      <td>Resign</td>\n",
              "      <td>Black</td>\n",
              "      <td>5+10</td>\n",
              "      <td>a-00</td>\n",
              "      <td>1322</td>\n",
              "      <td>skinnerua</td>\n",
              "      <td>1261</td>\n",
              "      <td>d4 Nc6 e4 e5 f4 f6 dxe5 fxe5 fxe5 Nxe5 Qd4 Nc6...</td>\n",
              "      <td>B00</td>\n",
              "      <td>4</td>\n",
              "      <td>Nimzowitsch Defense: Kennedy Variation</td>\n",
              "      <td>Nimzowitsch Defense</td>\n",
              "      <td>NaN</td>\n",
              "      <td>Kennedy Variation</td>\n",
              "    </tr>\n",
              "    <tr>\n",
              "      <th>2</th>\n",
              "      <td>3</td>\n",
              "      <td>True</td>\n",
              "      <td>61</td>\n",
              "      <td>Mate</td>\n",
              "      <td>White</td>\n",
              "      <td>5+10</td>\n",
              "      <td>ischia</td>\n",
              "      <td>1496</td>\n",
              "      <td>a-00</td>\n",
              "      <td>1500</td>\n",
              "      <td>e4 e5 d3 d6 Be3 c6 Be2 b5 Nd2 a5 a4 c5 axb5 Nc...</td>\n",
              "      <td>C20</td>\n",
              "      <td>3</td>\n",
              "      <td>King's Pawn Game: Leonardis Variation</td>\n",
              "      <td>King's Pawn Game</td>\n",
              "      <td>NaN</td>\n",
              "      <td>Leonardis Variation</td>\n",
              "    </tr>\n",
              "    <tr>\n",
              "      <th>3</th>\n",
              "      <td>4</td>\n",
              "      <td>True</td>\n",
              "      <td>61</td>\n",
              "      <td>Mate</td>\n",
              "      <td>White</td>\n",
              "      <td>20+0</td>\n",
              "      <td>daniamurashov</td>\n",
              "      <td>1439</td>\n",
              "      <td>adivanov2009</td>\n",
              "      <td>1454</td>\n",
              "      <td>d4 d5 Nf3 Bf5 Nc3 Nf6 Bf4 Ng4 e3 Nc6 Be2 Qd7 O...</td>\n",
              "      <td>D02</td>\n",
              "      <td>3</td>\n",
              "      <td>Queen's Pawn Game: Zukertort Variation</td>\n",
              "      <td>Queen's Pawn Game</td>\n",
              "      <td>NaN</td>\n",
              "      <td>Zukertort Variation</td>\n",
              "    </tr>\n",
              "    <tr>\n",
              "      <th>4</th>\n",
              "      <td>5</td>\n",
              "      <td>True</td>\n",
              "      <td>95</td>\n",
              "      <td>Mate</td>\n",
              "      <td>White</td>\n",
              "      <td>30+3</td>\n",
              "      <td>nik221107</td>\n",
              "      <td>1523</td>\n",
              "      <td>adivanov2009</td>\n",
              "      <td>1469</td>\n",
              "      <td>e4 e5 Nf3 d6 d4 Nc6 d5 Nb4 a3 Na6 Nc3 Be7 b4 N...</td>\n",
              "      <td>C41</td>\n",
              "      <td>5</td>\n",
              "      <td>Philidor Defense</td>\n",
              "      <td>Philidor Defense</td>\n",
              "      <td>NaN</td>\n",
              "      <td>NaN</td>\n",
              "    </tr>\n",
              "    <tr>\n",
              "      <th>...</th>\n",
              "      <td>...</td>\n",
              "      <td>...</td>\n",
              "      <td>...</td>\n",
              "      <td>...</td>\n",
              "      <td>...</td>\n",
              "      <td>...</td>\n",
              "      <td>...</td>\n",
              "      <td>...</td>\n",
              "      <td>...</td>\n",
              "      <td>...</td>\n",
              "      <td>...</td>\n",
              "      <td>...</td>\n",
              "      <td>...</td>\n",
              "      <td>...</td>\n",
              "      <td>...</td>\n",
              "      <td>...</td>\n",
              "      <td>...</td>\n",
              "    </tr>\n",
              "    <tr>\n",
              "      <th>20053</th>\n",
              "      <td>20054</td>\n",
              "      <td>True</td>\n",
              "      <td>24</td>\n",
              "      <td>Resign</td>\n",
              "      <td>White</td>\n",
              "      <td>10+10</td>\n",
              "      <td>belcolt</td>\n",
              "      <td>1691</td>\n",
              "      <td>jamboger</td>\n",
              "      <td>1220</td>\n",
              "      <td>d4 f5 e3 e6 Nf3 Nf6 Nc3 b6 Be2 Bb7 O-O Be7 Ne5...</td>\n",
              "      <td>A80</td>\n",
              "      <td>2</td>\n",
              "      <td>Dutch Defense</td>\n",
              "      <td>Dutch Defense</td>\n",
              "      <td>NaN</td>\n",
              "      <td>NaN</td>\n",
              "    </tr>\n",
              "    <tr>\n",
              "      <th>20054</th>\n",
              "      <td>20055</td>\n",
              "      <td>True</td>\n",
              "      <td>82</td>\n",
              "      <td>Mate</td>\n",
              "      <td>Black</td>\n",
              "      <td>10+0</td>\n",
              "      <td>jamboger</td>\n",
              "      <td>1233</td>\n",
              "      <td>farrukhasomiddinov</td>\n",
              "      <td>1196</td>\n",
              "      <td>d4 d6 Bf4 e5 Bg3 Nf6 e3 exd4 exd4 d5 c3 Bd6 Bd...</td>\n",
              "      <td>A41</td>\n",
              "      <td>2</td>\n",
              "      <td>Queen's Pawn</td>\n",
              "      <td>Queen's Pawn</td>\n",
              "      <td>NaN</td>\n",
              "      <td>NaN</td>\n",
              "    </tr>\n",
              "    <tr>\n",
              "      <th>20055</th>\n",
              "      <td>20056</td>\n",
              "      <td>True</td>\n",
              "      <td>35</td>\n",
              "      <td>Mate</td>\n",
              "      <td>White</td>\n",
              "      <td>10+0</td>\n",
              "      <td>jamboger</td>\n",
              "      <td>1219</td>\n",
              "      <td>schaaksmurf3</td>\n",
              "      <td>1286</td>\n",
              "      <td>d4 d5 Bf4 Nc6 e3 Nf6 c3 e6 Nf3 Be7 Bd3 O-O Nbd...</td>\n",
              "      <td>D00</td>\n",
              "      <td>3</td>\n",
              "      <td>Queen's Pawn Game: Mason Attack</td>\n",
              "      <td>Queen's Pawn Game</td>\n",
              "      <td>NaN</td>\n",
              "      <td>Mason Attack</td>\n",
              "    </tr>\n",
              "    <tr>\n",
              "      <th>20056</th>\n",
              "      <td>20057</td>\n",
              "      <td>True</td>\n",
              "      <td>109</td>\n",
              "      <td>Resign</td>\n",
              "      <td>White</td>\n",
              "      <td>10+0</td>\n",
              "      <td>marcodisogno</td>\n",
              "      <td>1360</td>\n",
              "      <td>jamboger</td>\n",
              "      <td>1227</td>\n",
              "      <td>e4 d6 d4 Nf6 e5 dxe5 dxe5 Qxd1+ Kxd1 Nd5 c4 Nb...</td>\n",
              "      <td>B07</td>\n",
              "      <td>4</td>\n",
              "      <td>Pirc Defense</td>\n",
              "      <td>Pirc Defense</td>\n",
              "      <td>NaN</td>\n",
              "      <td>NaN</td>\n",
              "    </tr>\n",
              "    <tr>\n",
              "      <th>20057</th>\n",
              "      <td>20058</td>\n",
              "      <td>True</td>\n",
              "      <td>78</td>\n",
              "      <td>Mate</td>\n",
              "      <td>Black</td>\n",
              "      <td>10+0</td>\n",
              "      <td>jamboger</td>\n",
              "      <td>1235</td>\n",
              "      <td>ffbob</td>\n",
              "      <td>1339</td>\n",
              "      <td>d4 d5 Bf4 Na6 e3 e6 c3 Nf6 Nf3 Bd7 Nbd2 b5 Bd3...</td>\n",
              "      <td>D00</td>\n",
              "      <td>3</td>\n",
              "      <td>Queen's Pawn Game: Mason Attack</td>\n",
              "      <td>Queen's Pawn Game</td>\n",
              "      <td>NaN</td>\n",
              "      <td>Mason Attack</td>\n",
              "    </tr>\n",
              "  </tbody>\n",
              "</table>\n",
              "<p>20058 rows × 17 columns</p>\n",
              "</div>\n",
              "      <button class=\"colab-df-convert\" onclick=\"convertToInteractive('df-c65bf7d8-36c4-44f6-8c7f-15e7eca7c3f8')\"\n",
              "              title=\"Convert this dataframe to an interactive table.\"\n",
              "              style=\"display:none;\">\n",
              "        \n",
              "  <svg xmlns=\"http://www.w3.org/2000/svg\" height=\"24px\"viewBox=\"0 0 24 24\"\n",
              "       width=\"24px\">\n",
              "    <path d=\"M0 0h24v24H0V0z\" fill=\"none\"/>\n",
              "    <path d=\"M18.56 5.44l.94 2.06.94-2.06 2.06-.94-2.06-.94-.94-2.06-.94 2.06-2.06.94zm-11 1L8.5 8.5l.94-2.06 2.06-.94-2.06-.94L8.5 2.5l-.94 2.06-2.06.94zm10 10l.94 2.06.94-2.06 2.06-.94-2.06-.94-.94-2.06-.94 2.06-2.06.94z\"/><path d=\"M17.41 7.96l-1.37-1.37c-.4-.4-.92-.59-1.43-.59-.52 0-1.04.2-1.43.59L10.3 9.45l-7.72 7.72c-.78.78-.78 2.05 0 2.83L4 21.41c.39.39.9.59 1.41.59.51 0 1.02-.2 1.41-.59l7.78-7.78 2.81-2.81c.8-.78.8-2.07 0-2.86zM5.41 20L4 18.59l7.72-7.72 1.47 1.35L5.41 20z\"/>\n",
              "  </svg>\n",
              "      </button>\n",
              "      \n",
              "  <style>\n",
              "    .colab-df-container {\n",
              "      display:flex;\n",
              "      flex-wrap:wrap;\n",
              "      gap: 12px;\n",
              "    }\n",
              "\n",
              "    .colab-df-convert {\n",
              "      background-color: #E8F0FE;\n",
              "      border: none;\n",
              "      border-radius: 50%;\n",
              "      cursor: pointer;\n",
              "      display: none;\n",
              "      fill: #1967D2;\n",
              "      height: 32px;\n",
              "      padding: 0 0 0 0;\n",
              "      width: 32px;\n",
              "    }\n",
              "\n",
              "    .colab-df-convert:hover {\n",
              "      background-color: #E2EBFA;\n",
              "      box-shadow: 0px 1px 2px rgba(60, 64, 67, 0.3), 0px 1px 3px 1px rgba(60, 64, 67, 0.15);\n",
              "      fill: #174EA6;\n",
              "    }\n",
              "\n",
              "    [theme=dark] .colab-df-convert {\n",
              "      background-color: #3B4455;\n",
              "      fill: #D2E3FC;\n",
              "    }\n",
              "\n",
              "    [theme=dark] .colab-df-convert:hover {\n",
              "      background-color: #434B5C;\n",
              "      box-shadow: 0px 1px 3px 1px rgba(0, 0, 0, 0.15);\n",
              "      filter: drop-shadow(0px 1px 2px rgba(0, 0, 0, 0.3));\n",
              "      fill: #FFFFFF;\n",
              "    }\n",
              "  </style>\n",
              "\n",
              "      <script>\n",
              "        const buttonEl =\n",
              "          document.querySelector('#df-c65bf7d8-36c4-44f6-8c7f-15e7eca7c3f8 button.colab-df-convert');\n",
              "        buttonEl.style.display =\n",
              "          google.colab.kernel.accessAllowed ? 'block' : 'none';\n",
              "\n",
              "        async function convertToInteractive(key) {\n",
              "          const element = document.querySelector('#df-c65bf7d8-36c4-44f6-8c7f-15e7eca7c3f8');\n",
              "          const dataTable =\n",
              "            await google.colab.kernel.invokeFunction('convertToInteractive',\n",
              "                                                     [key], {});\n",
              "          if (!dataTable) return;\n",
              "\n",
              "          const docLinkHtml = 'Like what you see? Visit the ' +\n",
              "            '<a target=\"_blank\" href=https://colab.research.google.com/notebooks/data_table.ipynb>data table notebook</a>'\n",
              "            + ' to learn more about interactive tables.';\n",
              "          element.innerHTML = '';\n",
              "          dataTable['output_type'] = 'display_data';\n",
              "          await google.colab.output.renderOutput(dataTable, element);\n",
              "          const docLink = document.createElement('div');\n",
              "          docLink.innerHTML = docLinkHtml;\n",
              "          element.appendChild(docLink);\n",
              "        }\n",
              "      </script>\n",
              "    </div>\n",
              "  </div>\n",
              "  "
            ]
          },
          "metadata": {},
          "execution_count": 5
        }
      ]
    },
    {
      "cell_type": "code",
      "source": [
        "df.shape"
      ],
      "metadata": {
        "id": "XYUK5d6V5EDF",
        "colab": {
          "base_uri": "https://localhost:8080/"
        },
        "outputId": "f46d9793-5866-4815-c329-aeca0c1fee16"
      },
      "execution_count": 6,
      "outputs": [
        {
          "output_type": "execute_result",
          "data": {
            "text/plain": [
              "(20058, 17)"
            ]
          },
          "metadata": {},
          "execution_count": 6
        }
      ]
    },
    {
      "cell_type": "code",
      "source": [
        "df.columns"
      ],
      "metadata": {
        "id": "oTur3LDs5Ji4",
        "colab": {
          "base_uri": "https://localhost:8080/"
        },
        "outputId": "2ffbec50-c58e-48a0-db2a-4620607bd592"
      },
      "execution_count": 7,
      "outputs": [
        {
          "output_type": "execute_result",
          "data": {
            "text/plain": [
              "Index(['game_id', 'rated', 'turns', 'victory_status', 'winner',\n",
              "       'time_increment', 'white_id', 'white_rating', 'black_id',\n",
              "       'black_rating', 'moves', 'opening_code', 'opening_moves',\n",
              "       'opening_fullname', 'opening_shortname', 'opening_response',\n",
              "       'opening_variation'],\n",
              "      dtype='object')"
            ]
          },
          "metadata": {},
          "execution_count": 7
        }
      ]
    },
    {
      "cell_type": "code",
      "source": [
        "df.nunique()"
      ],
      "metadata": {
        "id": "Bb-SPgUU5O-S",
        "colab": {
          "base_uri": "https://localhost:8080/"
        },
        "outputId": "47392b4d-b44d-4748-f887-8a723cbe6956"
      },
      "execution_count": 8,
      "outputs": [
        {
          "output_type": "execute_result",
          "data": {
            "text/plain": [
              "game_id              20058\n",
              "rated                    2\n",
              "turns                  211\n",
              "victory_status           4\n",
              "winner                   3\n",
              "time_increment         400\n",
              "white_id              9438\n",
              "white_rating          1516\n",
              "black_id              9331\n",
              "black_rating          1521\n",
              "moves                18920\n",
              "opening_code           365\n",
              "opening_moves           23\n",
              "opening_fullname      1477\n",
              "opening_shortname      128\n",
              "opening_response         3\n",
              "opening_variation      615\n",
              "dtype: int64"
            ]
          },
          "metadata": {},
          "execution_count": 8
        }
      ]
    },
    {
      "cell_type": "code",
      "source": [
        "df.info()"
      ],
      "metadata": {
        "id": "on9uCkzd5hid",
        "colab": {
          "base_uri": "https://localhost:8080/"
        },
        "outputId": "379e817f-fea2-482d-fa1d-15616389362a"
      },
      "execution_count": 9,
      "outputs": [
        {
          "output_type": "stream",
          "name": "stdout",
          "text": [
            "<class 'pandas.core.frame.DataFrame'>\n",
            "RangeIndex: 20058 entries, 0 to 20057\n",
            "Data columns (total 17 columns):\n",
            " #   Column             Non-Null Count  Dtype \n",
            "---  ------             --------------  ----- \n",
            " 0   game_id            20058 non-null  int64 \n",
            " 1   rated              20058 non-null  bool  \n",
            " 2   turns              20058 non-null  int64 \n",
            " 3   victory_status     20058 non-null  object\n",
            " 4   winner             20058 non-null  object\n",
            " 5   time_increment     20058 non-null  object\n",
            " 6   white_id           20058 non-null  object\n",
            " 7   white_rating       20058 non-null  int64 \n",
            " 8   black_id           20058 non-null  object\n",
            " 9   black_rating       20058 non-null  int64 \n",
            " 10  moves              20058 non-null  object\n",
            " 11  opening_code       20058 non-null  object\n",
            " 12  opening_moves      20058 non-null  int64 \n",
            " 13  opening_fullname   20058 non-null  object\n",
            " 14  opening_shortname  20058 non-null  object\n",
            " 15  opening_response   1207 non-null   object\n",
            " 16  opening_variation  14398 non-null  object\n",
            "dtypes: bool(1), int64(5), object(11)\n",
            "memory usage: 2.5+ MB\n"
          ]
        }
      ]
    },
    {
      "cell_type": "markdown",
      "source": [
        "Plot data in graphs"
      ],
      "metadata": {
        "id": "Q3KEuibhFWc2"
      }
    },
    {
      "cell_type": "code",
      "source": [
        "fig = plt.figure(figsize=(10,10))\n",
        "ax = fig.gca()\n",
        "df.hist(ax=ax, bins=30)\n",
        "plt.show()"
      ],
      "metadata": {
        "id": "OrCqxnhu-WJx",
        "colab": {
          "base_uri": "https://localhost:8080/",
          "height": 853
        },
        "outputId": "7c5fea7a-72b9-4c1c-c1e0-a1765ab62f99"
      },
      "execution_count": 10,
      "outputs": [
        {
          "output_type": "display_data",
          "data": {
            "text/plain": [
              "<Figure size 1000x1000 with 6 Axes>"
            ],
            "image/png": "[encoded data removed]"
          },
          "metadata": {}
        }
      ]
    },
    {
      "cell_type": "code",
      "source": [
        "df.plot(kind='box', subplots=True,\n",
        "        layout=(2,7),sharex=False,sharey=False, figsize=(20,20), color='red');"
      ],
      "metadata": {
        "id": "quue4h5F_x00",
        "colab": {
          "base_uri": "https://localhost:8080/",
          "height": 760
        },
        "outputId": "4aef4f74-5b26-467d-d5b8-ae15be935e93"
      },
      "execution_count": 11,
      "outputs": [
        {
          "output_type": "display_data",
          "data": {
            "text/plain": [
              "<Figure size 2000x2000 with 14 Axes>"
            ],
            "image/png": "[encoded data removed]"
          },
          "metadata": {}
        }
      ]
    },
    {
      "cell_type": "markdown",
      "source": [
        "Drop extraneous columns"
      ],
      "metadata": {
        "id": "PVtLmNC8FYGl"
      }
    },
    {
      "cell_type": "code",
      "source": [
        "df = df.drop('game_id', axis=1)\n",
        "df = df.drop('white_id', axis=1)\n",
        "df = df.drop('black_id', axis=1)\n",
        "df = df.drop('opening_fullname', axis=1)\n",
        "df = df.drop('opening_code', axis=1)\n",
        "#victory status is removed because otherwise it provides a guaranteed method for an algorithm to predict draws\n",
        "df = df.drop('victory_status', axis=1)\n",
        "\n",
        "#moves, turns are removed in order to facilitate a predictive application (in theory this is also correct with moves however none of the algorithms used understand the rules of chess well enough to actually use that)\n",
        "#df = df.drop('moves', axis=1) \n",
        "#df = df.drop('turns', axis=1)"
      ],
      "metadata": {
        "id": "o2ZNOi_eAd0E"
      },
      "execution_count": 12,
      "outputs": []
    },
    {
      "cell_type": "markdown",
      "source": [
        "Drop duplicates"
      ],
      "metadata": {
        "id": "OytIj-5Yr7px"
      }
    },
    {
      "cell_type": "code",
      "source": [
        "df = df.drop_duplicates(subset=df.columns.difference(['game_id']))"
      ],
      "metadata": {
        "id": "QXxFHmYpr92C"
      },
      "execution_count": 13,
      "outputs": []
    },
    {
      "cell_type": "code",
      "source": [
        "df = df.drop(df[df.turns >250].index, axis=0)"
      ],
      "metadata": {
        "id": "aPl5XomnDj31"
      },
      "execution_count": 14,
      "outputs": []
    },
    {
      "cell_type": "code",
      "source": [
        "df.plot(kind='box', subplots=True,\n",
        "        layout=(2,7),sharex=True,sharey=False, figsize=(20,20), color='red');"
      ],
      "metadata": {
        "colab": {
          "base_uri": "https://localhost:8080/",
          "height": 760
        },
        "id": "aPER9sc2ECZR",
        "outputId": "b4d63b5e-7365-4d96-b42e-d870ddf31f2f"
      },
      "execution_count": 15,
      "outputs": [
        {
          "output_type": "display_data",
          "data": {
            "text/plain": [
              "<Figure size 2000x2000 with 14 Axes>"
            ],
            "image/png": "[encoded data removed]"
          },
          "metadata": {}
        }
      ]
    },
    {
      "cell_type": "code",
      "source": [
        "df.shape"
      ],
      "metadata": {
        "colab": {
          "base_uri": "https://localhost:8080/"
        },
        "id": "evgFWpWRFDPZ",
        "outputId": "7883e873-fe80-4141-8356-edbd3f000c94"
      },
      "execution_count": 16,
      "outputs": [
        {
          "output_type": "execute_result",
          "data": {
            "text/plain": [
              "(19109, 11)"
            ]
          },
          "metadata": {},
          "execution_count": 16
        }
      ]
    },
    {
      "cell_type": "markdown",
      "source": [
        "Calculating result ratios"
      ],
      "metadata": {
        "id": "OOcvfso8ljYO"
      }
    },
    {
      "cell_type": "code",
      "source": [
        "ax= plt.subplots(figsize=(5, 4))\n",
        "name = ['White', 'Black', 'Draw']\n",
        "ax=df.winner.value_counts().plot(kind='bar')\n",
        "ax.set_xticklabels(name)\n",
        "ax.set_title('Chess Result Classes', fontsize=13, weight='bold')\n",
        "\n",
        "for i in ax.patches:\n",
        "  ax.text(i.get_x()+0.03, i.get_height()-800, \\\n",
        "    str(round((i.get_height()/len(df))*100, 2))+'%', fontsize=10,\n",
        "      color='white', weight = 'bold')\n"
      ],
      "metadata": {
        "colab": {
          "base_uri": "https://localhost:8080/",
          "height": 417
        },
        "id": "TNnVE-LTz--z",
        "outputId": "833dd9f9-f082-4007-d8dd-dd6ca473caf3"
      },
      "execution_count": 17,
      "outputs": [
        {
          "output_type": "display_data",
          "data": {
            "text/plain": [
              "<Figure size 500x400 with 1 Axes>"
            ],
            "image/png": "[encoded data removed]"
          },
          "metadata": {}
        }
      ]
    },
    {
      "cell_type": "code",
      "source": [
        "#profile = ProfileReport(df,title=\"Chess Results EDA\",\n",
        "  #html={'style':{'full_width':True}})\n",
        "#profile.to_notebook_iframe()"
      ],
      "metadata": {
        "id": "RfnWZYrjqmc0"
      },
      "execution_count": 18,
      "outputs": []
    },
    {
      "cell_type": "markdown",
      "source": [
        "# PREDICTIVE DATA ANALYSIS"
      ],
      "metadata": {
        "id": "_T5cHb-yw6rr"
      }
    },
    {
      "cell_type": "markdown",
      "source": [
        "PRE PROCESSING"
      ],
      "metadata": {
        "id": "GU4AUKhikxwN"
      }
    },
    {
      "cell_type": "code",
      "source": [
        "#PDA pre processing imports\n",
        "from sklearn.exceptions import DataDimensionalityWarning\n",
        "from sklearn import preprocessing\n",
        "from sklearn.preprocessing import OrdinalEncoder\n",
        "\n",
        "for col in df:\n",
        "  if df[col].dtype =='object' or df[col].dtype == 'bool':\n",
        "    df[col]=OrdinalEncoder().fit_transform(df[col].values.reshape(-1,1))\n",
        "\n",
        "df"
      ],
      "metadata": {
        "colab": {
          "base_uri": "https://localhost:8080/",
          "height": 424
        },
        "id": "63Q2gUrzCTBI",
        "outputId": "b73ab3ed-cf25-468d-fcea-6e7dc420d563"
      },
      "execution_count": 19,
      "outputs": [
        {
          "output_type": "execute_result",
          "data": {
            "text/plain": [
              "       rated  turns  winner  time_increment  white_rating  black_rating  \\\n",
              "0        0.0     13     2.0           110.0          1500          1191   \n",
              "1        1.0     16     0.0           298.0          1322          1261   \n",
              "2        1.0     61     2.0           298.0          1496          1500   \n",
              "3        1.0     61     2.0           187.0          1439          1454   \n",
              "4        1.0     95     2.0           247.0          1523          1469   \n",
              "...      ...    ...     ...             ...           ...           ...   \n",
              "20053    1.0     24     2.0            21.0          1691          1220   \n",
              "20054    1.0     82     0.0            19.0          1233          1196   \n",
              "20055    1.0     35     2.0            19.0          1219          1286   \n",
              "20056    1.0    109     2.0            19.0          1360          1227   \n",
              "20057    1.0     78     0.0            19.0          1235          1339   \n",
              "\n",
              "         moves  opening_moves  opening_shortname  opening_response  \\\n",
              "0       4522.0              5              110.0               NaN   \n",
              "1       1987.0              4               74.0               NaN   \n",
              "2      16381.0              3               61.0               NaN   \n",
              "3       3770.0              3               94.0               NaN   \n",
              "4      15620.0              5               83.0               NaN   \n",
              "...        ...            ...                ...               ...   \n",
              "20053   6116.0              2               29.0               NaN   \n",
              "20054   5419.0              2               93.0               NaN   \n",
              "20055   3431.0              3               94.0               NaN   \n",
              "20056  11215.0              4               84.0               NaN   \n",
              "20057   3385.0              3               94.0               NaN   \n",
              "\n",
              "       opening_variation  \n",
              "0                  181.0  \n",
              "1                  262.0  \n",
              "2                  298.0  \n",
              "3                  609.0  \n",
              "4                    NaN  \n",
              "...                  ...  \n",
              "20053                NaN  \n",
              "20054                NaN  \n",
              "20055              325.0  \n",
              "20056                NaN  \n",
              "20057              325.0  \n",
              "\n",
              "[19109 rows x 11 columns]"
            ],
            "text/html": [
              "\n",
              "  <div id=\"df-2f1b7c3f-aeeb-4792-9723-7d6071320e10\">\n",
              "    <div class=\"colab-df-container\">\n",
              "      <div>\n",
              "<style scoped>\n",
              "    .dataframe tbody tr th:only-of-type {\n",
              "        vertical-align: middle;\n",
              "    }\n",
              "\n",
              "    .dataframe tbody tr th {\n",
              "        vertical-align: top;\n",
              "    }\n",
              "\n",
              "    .dataframe thead th {\n",
              "        text-align: right;\n",
              "    }\n",
              "</style>\n",
              "<table border=\"1\" class=\"dataframe\">\n",
              "  <thead>\n",
              "    <tr style=\"text-align: right;\">\n",
              "      <th></th>\n",
              "      <th>rated</th>\n",
              "      <th>turns</th>\n",
              "      <th>winner</th>\n",
              "      <th>time_increment</th>\n",
              "      <th>white_rating</th>\n",
              "      <th>black_rating</th>\n",
              "      <th>moves</th>\n",
              "      <th>opening_moves</th>\n",
              "      <th>opening_shortname</th>\n",
              "      <th>opening_response</th>\n",
              "      <th>opening_variation</th>\n",
              "    </tr>\n",
              "  </thead>\n",
              "  <tbody>\n",
              "    <tr>\n",
              "      <th>0</th>\n",
              "      <td>0.0</td>\n",
              "      <td>13</td>\n",
              "      <td>2.0</td>\n",
              "      <td>110.0</td>\n",
              "      <td>1500</td>\n",
              "      <td>1191</td>\n",
              "      <td>4522.0</td>\n",
              "      <td>5</td>\n",
              "      <td>110.0</td>\n",
              "      <td>NaN</td>\n",
              "      <td>181.0</td>\n",
              "    </tr>\n",
              "    <tr>\n",
              "      <th>1</th>\n",
              "      <td>1.0</td>\n",
              "      <td>16</td>\n",
              "      <td>0.0</td>\n",
              "      <td>298.0</td>\n",
              "      <td>1322</td>\n",
              "      <td>1261</td>\n",
              "      <td>1987.0</td>\n",
              "      <td>4</td>\n",
              "      <td>74.0</td>\n",
              "      <td>NaN</td>\n",
              "      <td>262.0</td>\n",
              "    </tr>\n",
              "    <tr>\n",
              "      <th>2</th>\n",
              "      <td>1.0</td>\n",
              "      <td>61</td>\n",
              "      <td>2.0</td>\n",
              "      <td>298.0</td>\n",
              "      <td>1496</td>\n",
              "      <td>1500</td>\n",
              "      <td>16381.0</td>\n",
              "      <td>3</td>\n",
              "      <td>61.0</td>\n",
              "      <td>NaN</td>\n",
              "      <td>298.0</td>\n",
              "    </tr>\n",
              "    <tr>\n",
              "      <th>3</th>\n",
              "      <td>1.0</td>\n",
              "      <td>61</td>\n",
              "      <td>2.0</td>\n",
              "      <td>187.0</td>\n",
              "      <td>1439</td>\n",
              "      <td>1454</td>\n",
              "      <td>3770.0</td>\n",
              "      <td>3</td>\n",
              "      <td>94.0</td>\n",
              "      <td>NaN</td>\n",
              "      <td>609.0</td>\n",
              "    </tr>\n",
              "    <tr>\n",
              "      <th>4</th>\n",
              "      <td>1.0</td>\n",
              "      <td>95</td>\n",
              "      <td>2.0</td>\n",
              "      <td>247.0</td>\n",
              "      <td>1523</td>\n",
              "      <td>1469</td>\n",
              "      <td>15620.0</td>\n",
              "      <td>5</td>\n",
              "      <td>83.0</td>\n",
              "      <td>NaN</td>\n",
              "      <td>NaN</td>\n",
              "    </tr>\n",
              "    <tr>\n",
              "      <th>...</th>\n",
              "      <td>...</td>\n",
              "      <td>...</td>\n",
              "      <td>...</td>\n",
              "      <td>...</td>\n",
              "      <td>...</td>\n",
              "      <td>...</td>\n",
              "      <td>...</td>\n",
              "      <td>...</td>\n",
              "      <td>...</td>\n",
              "      <td>...</td>\n",
              "      <td>...</td>\n",
              "    </tr>\n",
              "    <tr>\n",
              "      <th>20053</th>\n",
              "      <td>1.0</td>\n",
              "      <td>24</td>\n",
              "      <td>2.0</td>\n",
              "      <td>21.0</td>\n",
              "      <td>1691</td>\n",
              "      <td>1220</td>\n",
              "      <td>6116.0</td>\n",
              "      <td>2</td>\n",
              "      <td>29.0</td>\n",
              "      <td>NaN</td>\n",
              "      <td>NaN</td>\n",
              "    </tr>\n",
              "    <tr>\n",
              "      <th>20054</th>\n",
              "      <td>1.0</td>\n",
              "      <td>82</td>\n",
              "      <td>0.0</td>\n",
              "      <td>19.0</td>\n",
              "      <td>1233</td>\n",
              "      <td>1196</td>\n",
              "      <td>5419.0</td>\n",
              "      <td>2</td>\n",
              "      <td>93.0</td>\n",
              "      <td>NaN</td>\n",
              "      <td>NaN</td>\n",
              "    </tr>\n",
              "    <tr>\n",
              "      <th>20055</th>\n",
              "      <td>1.0</td>\n",
              "      <td>35</td>\n",
              "      <td>2.0</td>\n",
              "      <td>19.0</td>\n",
              "      <td>1219</td>\n",
              "      <td>1286</td>\n",
              "      <td>3431.0</td>\n",
              "      <td>3</td>\n",
              "      <td>94.0</td>\n",
              "      <td>NaN</td>\n",
              "      <td>325.0</td>\n",
              "    </tr>\n",
              "    <tr>\n",
              "      <th>20056</th>\n",
              "      <td>1.0</td>\n",
              "      <td>109</td>\n",
              "      <td>2.0</td>\n",
              "      <td>19.0</td>\n",
              "      <td>1360</td>\n",
              "      <td>1227</td>\n",
              "      <td>11215.0</td>\n",
              "      <td>4</td>\n",
              "      <td>84.0</td>\n",
              "      <td>NaN</td>\n",
              "      <td>NaN</td>\n",
              "    </tr>\n",
              "    <tr>\n",
              "      <th>20057</th>\n",
              "      <td>1.0</td>\n",
              "      <td>78</td>\n",
              "      <td>0.0</td>\n",
              "      <td>19.0</td>\n",
              "      <td>1235</td>\n",
              "      <td>1339</td>\n",
              "      <td>3385.0</td>\n",
              "      <td>3</td>\n",
              "      <td>94.0</td>\n",
              "      <td>NaN</td>\n",
              "      <td>325.0</td>\n",
              "    </tr>\n",
              "  </tbody>\n",
              "</table>\n",
              "<p>19109 rows × 11 columns</p>\n",
              "</div>\n",
              "      <button class=\"colab-df-convert\" onclick=\"convertToInteractive('df-2f1b7c3f-aeeb-4792-9723-7d6071320e10')\"\n",
              "              title=\"Convert this dataframe to an interactive table.\"\n",
              "              style=\"display:none;\">\n",
              "        \n",
              "  <svg xmlns=\"http://www.w3.org/2000/svg\" height=\"24px\"viewBox=\"0 0 24 24\"\n",
              "       width=\"24px\">\n",
              "    <path d=\"M0 0h24v24H0V0z\" fill=\"none\"/>\n",
              "    <path d=\"M18.56 5.44l.94 2.06.94-2.06 2.06-.94-2.06-.94-.94-2.06-.94 2.06-2.06.94zm-11 1L8.5 8.5l.94-2.06 2.06-.94-2.06-.94L8.5 2.5l-.94 2.06-2.06.94zm10 10l.94 2.06.94-2.06 2.06-.94-2.06-.94-.94-2.06-.94 2.06-2.06.94z\"/><path d=\"M17.41 7.96l-1.37-1.37c-.4-.4-.92-.59-1.43-.59-.52 0-1.04.2-1.43.59L10.3 9.45l-7.72 7.72c-.78.78-.78 2.05 0 2.83L4 21.41c.39.39.9.59 1.41.59.51 0 1.02-.2 1.41-.59l7.78-7.78 2.81-2.81c.8-.78.8-2.07 0-2.86zM5.41 20L4 18.59l7.72-7.72 1.47 1.35L5.41 20z\"/>\n",
              "  </svg>\n",
              "      </button>\n",
              "      \n",
              "  <style>\n",
              "    .colab-df-container {\n",
              "      display:flex;\n",
              "      flex-wrap:wrap;\n",
              "      gap: 12px;\n",
              "    }\n",
              "\n",
              "    .colab-df-convert {\n",
              "      background-color: #E8F0FE;\n",
              "      border: none;\n",
              "      border-radius: 50%;\n",
              "      cursor: pointer;\n",
              "      display: none;\n",
              "      fill: #1967D2;\n",
              "      height: 32px;\n",
              "      padding: 0 0 0 0;\n",
              "      width: 32px;\n",
              "    }\n",
              "\n",
              "    .colab-df-convert:hover {\n",
              "      background-color: #E2EBFA;\n",
              "      box-shadow: 0px 1px 2px rgba(60, 64, 67, 0.3), 0px 1px 3px 1px rgba(60, 64, 67, 0.15);\n",
              "      fill: #174EA6;\n",
              "    }\n",
              "\n",
              "    [theme=dark] .colab-df-convert {\n",
              "      background-color: #3B4455;\n",
              "      fill: #D2E3FC;\n",
              "    }\n",
              "\n",
              "    [theme=dark] .colab-df-convert:hover {\n",
              "      background-color: #434B5C;\n",
              "      box-shadow: 0px 1px 3px 1px rgba(0, 0, 0, 0.15);\n",
              "      filter: drop-shadow(0px 1px 2px rgba(0, 0, 0, 0.3));\n",
              "      fill: #FFFFFF;\n",
              "    }\n",
              "  </style>\n",
              "\n",
              "      <script>\n",
              "        const buttonEl =\n",
              "          document.querySelector('#df-2f1b7c3f-aeeb-4792-9723-7d6071320e10 button.colab-df-convert');\n",
              "        buttonEl.style.display =\n",
              "          google.colab.kernel.accessAllowed ? 'block' : 'none';\n",
              "\n",
              "        async function convertToInteractive(key) {\n",
              "          const element = document.querySelector('#df-2f1b7c3f-aeeb-4792-9723-7d6071320e10');\n",
              "          const dataTable =\n",
              "            await google.colab.kernel.invokeFunction('convertToInteractive',\n",
              "                                                     [key], {});\n",
              "          if (!dataTable) return;\n",
              "\n",
              "          const docLinkHtml = 'Like what you see? Visit the ' +\n",
              "            '<a target=\"_blank\" href=https://colab.research.google.com/notebooks/data_table.ipynb>data table notebook</a>'\n",
              "            + ' to learn more about interactive tables.';\n",
              "          element.innerHTML = '';\n",
              "          dataTable['output_type'] = 'display_data';\n",
              "          await google.colab.output.renderOutput(dataTable, element);\n",
              "          const docLink = document.createElement('div');\n",
              "          docLink.innerHTML = docLinkHtml;\n",
              "          element.appendChild(docLink);\n",
              "        }\n",
              "      </script>\n",
              "    </div>\n",
              "  </div>\n",
              "  "
            ]
          },
          "metadata": {},
          "execution_count": 19
        }
      ]
    },
    {
      "cell_type": "code",
      "source": [
        "class_label =df['winner']\n",
        "df = df.drop(['winner'], axis =1)\n",
        "df = (df-df.min())/(df.max()-df.min())\n",
        "df['winner']=class_label\n",
        "df"
      ],
      "metadata": {
        "colab": {
          "base_uri": "https://localhost:8080/",
          "height": 424
        },
        "id": "GzTlp2o5J5KZ",
        "outputId": "7a839b30-32fb-4e71-ba7d-a72375dd7796"
      },
      "execution_count": 20,
      "outputs": [
        {
          "output_type": "execute_result",
          "data": {
            "text/plain": [
              "       rated     turns  time_increment  white_rating  black_rating     moves  \\\n",
              "0        0.0  0.053333        0.275689      0.373695      0.207859  0.239057   \n",
              "1        1.0  0.066667        0.746867      0.280793      0.244054  0.105043   \n",
              "2        1.0  0.266667        0.746867      0.371608      0.367632  0.865986   \n",
              "3        1.0  0.266667        0.468672      0.341858      0.343847  0.199302   \n",
              "4        1.0  0.417778        0.619048      0.385699      0.351603  0.825756   \n",
              "...      ...       ...             ...           ...           ...       ...   \n",
              "20053    1.0  0.102222        0.052632      0.473382      0.222854  0.323324   \n",
              "20054    1.0  0.360000        0.047619      0.234342      0.210445  0.286477   \n",
              "20055    1.0  0.151111        0.047619      0.227035      0.256980  0.181381   \n",
              "20056    1.0  0.480000        0.047619      0.300626      0.226474  0.592884   \n",
              "20057    1.0  0.342222        0.047619      0.235386      0.284385  0.178949   \n",
              "\n",
              "       opening_moves  opening_shortname  opening_response  opening_variation  \\\n",
              "0           0.148148           0.866142               NaN           0.295269   \n",
              "1           0.111111           0.582677               NaN           0.427406   \n",
              "2           0.074074           0.480315               NaN           0.486134   \n",
              "3           0.074074           0.740157               NaN           0.993475   \n",
              "4           0.148148           0.653543               NaN                NaN   \n",
              "...              ...                ...               ...                ...   \n",
              "20053       0.037037           0.228346               NaN                NaN   \n",
              "20054       0.037037           0.732283               NaN                NaN   \n",
              "20055       0.074074           0.740157               NaN           0.530179   \n",
              "20056       0.111111           0.661417               NaN                NaN   \n",
              "20057       0.074074           0.740157               NaN           0.530179   \n",
              "\n",
              "       winner  \n",
              "0         2.0  \n",
              "1         0.0  \n",
              "2         2.0  \n",
              "3         2.0  \n",
              "4         2.0  \n",
              "...       ...  \n",
              "20053     2.0  \n",
              "20054     0.0  \n",
              "20055     2.0  \n",
              "20056     2.0  \n",
              "20057     0.0  \n",
              "\n",
              "[19109 rows x 11 columns]"
            ],
            "text/html": [
              "\n",
              "  <div id=\"df-240c696e-1459-4a80-8c6b-96b50b1ab7c7\">\n",
              "    <div class=\"colab-df-container\">\n",
              "      <div>\n",
              "<style scoped>\n",
              "    .dataframe tbody tr th:only-of-type {\n",
              "        vertical-align: middle;\n",
              "    }\n",
              "\n",
              "    .dataframe tbody tr th {\n",
              "        vertical-align: top;\n",
              "    }\n",
              "\n",
              "    .dataframe thead th {\n",
              "        text-align: right;\n",
              "    }\n",
              "</style>\n",
              "<table border=\"1\" class=\"dataframe\">\n",
              "  <thead>\n",
              "    <tr style=\"text-align: right;\">\n",
              "      <th></th>\n",
              "      <th>rated</th>\n",
              "      <th>turns</th>\n",
              "      <th>time_increment</th>\n",
              "      <th>white_rating</th>\n",
              "      <th>black_rating</th>\n",
              "      <th>moves</th>\n",
              "      <th>opening_moves</th>\n",
              "      <th>opening_shortname</th>\n",
              "      <th>opening_response</th>\n",
              "      <th>opening_variation</th>\n",
              "      <th>winner</th>\n",
              "    </tr>\n",
              "  </thead>\n",
              "  <tbody>\n",
              "    <tr>\n",
              "      <th>0</th>\n",
              "      <td>0.0</td>\n",
              "      <td>0.053333</td>\n",
              "      <td>0.275689</td>\n",
              "      <td>0.373695</td>\n",
              "      <td>0.207859</td>\n",
              "      <td>0.239057</td>\n",
              "      <td>0.148148</td>\n",
              "      <td>0.866142</td>\n",
              "      <td>NaN</td>\n",
              "      <td>0.295269</td>\n",
              "      <td>2.0</td>\n",
              "    </tr>\n",
              "    <tr>\n",
              "      <th>1</th>\n",
              "      <td>1.0</td>\n",
              "      <td>0.066667</td>\n",
              "      <td>0.746867</td>\n",
              "      <td>0.280793</td>\n",
              "      <td>0.244054</td>\n",
              "      <td>0.105043</td>\n",
              "      <td>0.111111</td>\n",
              "      <td>0.582677</td>\n",
              "      <td>NaN</td>\n",
              "      <td>0.427406</td>\n",
              "      <td>0.0</td>\n",
              "    </tr>\n",
              "    <tr>\n",
              "      <th>2</th>\n",
              "      <td>1.0</td>\n",
              "      <td>0.266667</td>\n",
              "      <td>0.746867</td>\n",
              "      <td>0.371608</td>\n",
              "      <td>0.367632</td>\n",
              "      <td>0.865986</td>\n",
              "      <td>0.074074</td>\n",
              "      <td>0.480315</td>\n",
              "      <td>NaN</td>\n",
              "      <td>0.486134</td>\n",
              "      <td>2.0</td>\n",
              "    </tr>\n",
              "    <tr>\n",
              "      <th>3</th>\n",
              "      <td>1.0</td>\n",
              "      <td>0.266667</td>\n",
              "      <td>0.468672</td>\n",
              "      <td>0.341858</td>\n",
              "      <td>0.343847</td>\n",
              "      <td>0.199302</td>\n",
              "      <td>0.074074</td>\n",
              "      <td>0.740157</td>\n",
              "      <td>NaN</td>\n",
              "      <td>0.993475</td>\n",
              "      <td>2.0</td>\n",
              "    </tr>\n",
              "    <tr>\n",
              "      <th>4</th>\n",
              "      <td>1.0</td>\n",
              "      <td>0.417778</td>\n",
              "      <td>0.619048</td>\n",
              "      <td>0.385699</td>\n",
              "      <td>0.351603</td>\n",
              "      <td>0.825756</td>\n",
              "      <td>0.148148</td>\n",
              "      <td>0.653543</td>\n",
              "      <td>NaN</td>\n",
              "      <td>NaN</td>\n",
              "      <td>2.0</td>\n",
              "    </tr>\n",
              "    <tr>\n",
              "      <th>...</th>\n",
              "      <td>...</td>\n",
              "      <td>...</td>\n",
              "      <td>...</td>\n",
              "      <td>...</td>\n",
              "      <td>...</td>\n",
              "      <td>...</td>\n",
              "      <td>...</td>\n",
              "      <td>...</td>\n",
              "      <td>...</td>\n",
              "      <td>...</td>\n",
              "      <td>...</td>\n",
              "    </tr>\n",
              "    <tr>\n",
              "      <th>20053</th>\n",
              "      <td>1.0</td>\n",
              "      <td>0.102222</td>\n",
              "      <td>0.052632</td>\n",
              "      <td>0.473382</td>\n",
              "      <td>0.222854</td>\n",
              "      <td>0.323324</td>\n",
              "      <td>0.037037</td>\n",
              "      <td>0.228346</td>\n",
              "      <td>NaN</td>\n",
              "      <td>NaN</td>\n",
              "      <td>2.0</td>\n",
              "    </tr>\n",
              "    <tr>\n",
              "      <th>20054</th>\n",
              "      <td>1.0</td>\n",
              "      <td>0.360000</td>\n",
              "      <td>0.047619</td>\n",
              "      <td>0.234342</td>\n",
              "      <td>0.210445</td>\n",
              "      <td>0.286477</td>\n",
              "      <td>0.037037</td>\n",
              "      <td>0.732283</td>\n",
              "      <td>NaN</td>\n",
              "      <td>NaN</td>\n",
              "      <td>0.0</td>\n",
              "    </tr>\n",
              "    <tr>\n",
              "      <th>20055</th>\n",
              "      <td>1.0</td>\n",
              "      <td>0.151111</td>\n",
              "      <td>0.047619</td>\n",
              "      <td>0.227035</td>\n",
              "      <td>0.256980</td>\n",
              "      <td>0.181381</td>\n",
              "      <td>0.074074</td>\n",
              "      <td>0.740157</td>\n",
              "      <td>NaN</td>\n",
              "      <td>0.530179</td>\n",
              "      <td>2.0</td>\n",
              "    </tr>\n",
              "    <tr>\n",
              "      <th>20056</th>\n",
              "      <td>1.0</td>\n",
              "      <td>0.480000</td>\n",
              "      <td>0.047619</td>\n",
              "      <td>0.300626</td>\n",
              "      <td>0.226474</td>\n",
              "      <td>0.592884</td>\n",
              "      <td>0.111111</td>\n",
              "      <td>0.661417</td>\n",
              "      <td>NaN</td>\n",
              "      <td>NaN</td>\n",
              "      <td>2.0</td>\n",
              "    </tr>\n",
              "    <tr>\n",
              "      <th>20057</th>\n",
              "      <td>1.0</td>\n",
              "      <td>0.342222</td>\n",
              "      <td>0.047619</td>\n",
              "      <td>0.235386</td>\n",
              "      <td>0.284385</td>\n",
              "      <td>0.178949</td>\n",
              "      <td>0.074074</td>\n",
              "      <td>0.740157</td>\n",
              "      <td>NaN</td>\n",
              "      <td>0.530179</td>\n",
              "      <td>0.0</td>\n",
              "    </tr>\n",
              "  </tbody>\n",
              "</table>\n",
              "<p>19109 rows × 11 columns</p>\n",
              "</div>\n",
              "      <button class=\"colab-df-convert\" onclick=\"convertToInteractive('df-240c696e-1459-4a80-8c6b-96b50b1ab7c7')\"\n",
              "              title=\"Convert this dataframe to an interactive table.\"\n",
              "              style=\"display:none;\">\n",
              "        \n",
              "  <svg xmlns=\"http://www.w3.org/2000/svg\" height=\"24px\"viewBox=\"0 0 24 24\"\n",
              "       width=\"24px\">\n",
              "    <path d=\"M0 0h24v24H0V0z\" fill=\"none\"/>\n",
              "    <path d=\"M18.56 5.44l.94 2.06.94-2.06 2.06-.94-2.06-.94-.94-2.06-.94 2.06-2.06.94zm-11 1L8.5 8.5l.94-2.06 2.06-.94-2.06-.94L8.5 2.5l-.94 2.06-2.06.94zm10 10l.94 2.06.94-2.06 2.06-.94-2.06-.94-.94-2.06-.94 2.06-2.06.94z\"/><path d=\"M17.41 7.96l-1.37-1.37c-.4-.4-.92-.59-1.43-.59-.52 0-1.04.2-1.43.59L10.3 9.45l-7.72 7.72c-.78.78-.78 2.05 0 2.83L4 21.41c.39.39.9.59 1.41.59.51 0 1.02-.2 1.41-.59l7.78-7.78 2.81-2.81c.8-.78.8-2.07 0-2.86zM5.41 20L4 18.59l7.72-7.72 1.47 1.35L5.41 20z\"/>\n",
              "  </svg>\n",
              "      </button>\n",
              "      \n",
              "  <style>\n",
              "    .colab-df-container {\n",
              "      display:flex;\n",
              "      flex-wrap:wrap;\n",
              "      gap: 12px;\n",
              "    }\n",
              "\n",
              "    .colab-df-convert {\n",
              "      background-color: #E8F0FE;\n",
              "      border: none;\n",
              "      border-radius: 50%;\n",
              "      cursor: pointer;\n",
              "      display: none;\n",
              "      fill: #1967D2;\n",
              "      height: 32px;\n",
              "      padding: 0 0 0 0;\n",
              "      width: 32px;\n",
              "    }\n",
              "\n",
              "    .colab-df-convert:hover {\n",
              "      background-color: #E2EBFA;\n",
              "      box-shadow: 0px 1px 2px rgba(60, 64, 67, 0.3), 0px 1px 3px 1px rgba(60, 64, 67, 0.15);\n",
              "      fill: #174EA6;\n",
              "    }\n",
              "\n",
              "    [theme=dark] .colab-df-convert {\n",
              "      background-color: #3B4455;\n",
              "      fill: #D2E3FC;\n",
              "    }\n",
              "\n",
              "    [theme=dark] .colab-df-convert:hover {\n",
              "      background-color: #434B5C;\n",
              "      box-shadow: 0px 1px 3px 1px rgba(0, 0, 0, 0.15);\n",
              "      filter: drop-shadow(0px 1px 2px rgba(0, 0, 0, 0.3));\n",
              "      fill: #FFFFFF;\n",
              "    }\n",
              "  </style>\n",
              "\n",
              "      <script>\n",
              "        const buttonEl =\n",
              "          document.querySelector('#df-240c696e-1459-4a80-8c6b-96b50b1ab7c7 button.colab-df-convert');\n",
              "        buttonEl.style.display =\n",
              "          google.colab.kernel.accessAllowed ? 'block' : 'none';\n",
              "\n",
              "        async function convertToInteractive(key) {\n",
              "          const element = document.querySelector('#df-240c696e-1459-4a80-8c6b-96b50b1ab7c7');\n",
              "          const dataTable =\n",
              "            await google.colab.kernel.invokeFunction('convertToInteractive',\n",
              "                                                     [key], {});\n",
              "          if (!dataTable) return;\n",
              "\n",
              "          const docLinkHtml = 'Like what you see? Visit the ' +\n",
              "            '<a target=\"_blank\" href=https://colab.research.google.com/notebooks/data_table.ipynb>data table notebook</a>'\n",
              "            + ' to learn more about interactive tables.';\n",
              "          element.innerHTML = '';\n",
              "          dataTable['output_type'] = 'display_data';\n",
              "          await google.colab.output.renderOutput(dataTable, element);\n",
              "          const docLink = document.createElement('div');\n",
              "          docLink.innerHTML = docLinkHtml;\n",
              "          element.appendChild(docLink);\n",
              "        }\n",
              "      </script>\n",
              "    </div>\n",
              "  </div>\n",
              "  "
            ]
          },
          "metadata": {},
          "execution_count": 20
        }
      ]
    },
    {
      "cell_type": "code",
      "source": [
        "chess_data = df.copy()\n",
        "le = preprocessing.LabelEncoder()\n",
        "rated = le.fit_transform(list(chess_data[\"rated\"]))\n",
        "winner = le.fit_transform(list(chess_data[\"winner\"])) #0 = black, 1=draw, 2=white\n",
        "time_increment = le.fit_transform(list(chess_data[\"time_increment\"]))\n",
        "white_rating = le.fit_transform(list(chess_data[\"white_rating\"]))\n",
        "black_rating = le.fit_transform(list(chess_data[\"black_rating\"]))\n",
        "opening_moves = le.fit_transform(list(chess_data[\"opening_moves\"])) #how many moves in the opening\n",
        "moves = le.fit_transform(list(chess_data[\"moves\"]))\n",
        "turns = le.fit_transform(list(chess_data[\"turns\"]))\n",
        "opening_shortname = le.fit_transform(list(chess_data[\"opening_shortname\"]))\n",
        "opening_response = le.fit_transform(list(chess_data[\"opening_response\"]))\n",
        "opening_variation = le.fit_transform(list(chess_data[\"opening_variation\"]))"
      ],
      "metadata": {
        "id": "mkp1qbyIC-n7"
      },
      "execution_count": 21,
      "outputs": []
    },
    {
      "cell_type": "code",
      "source": [
        "#PDA imports\n",
        "from sklearn.preprocessing import StandardScaler\n",
        "from sklearn.model_selection import train_test_split\n",
        "from sklearn.model_selection import KFold\n",
        "from sklearn.model_selection import cross_val_score\n",
        "from sklearn.model_selection import GridSearchCV\n",
        "from sklearn.metrics import classification_report\n",
        "from sklearn.metrics import confusion_matrix, ConfusionMatrixDisplay\n",
        "from sklearn.metrics import accuracy_score\n",
        "from sklearn.pipeline import Pipeline\n",
        "from sklearn.linear_model import LogisticRegression\n",
        "from sklearn.tree import DecisionTreeClassifier\n",
        "from sklearn.neighbors import KNeighborsClassifier\n",
        "from sklearn.discriminant_analysis import LinearDiscriminantAnalysis\n",
        "from sklearn.naive_bayes import GaussianNB\n",
        "from sklearn.svm import SVC\n",
        "from sklearn.ensemble import AdaBoostClassifier\n",
        "from sklearn.ensemble import GradientBoostingClassifier\n",
        "from sklearn.ensemble import RandomForestClassifier\n",
        "from sklearn.ensemble import ExtraTreesClassifier\n",
        "\n",
        "x = list(zip(rated, time_increment, white_rating, black_rating, turns, moves, opening_moves, opening_shortname, opening_response, opening_variation))\n",
        "y = list(winner)\n",
        "\n",
        "num_folds = 5\n",
        "seed = 7\n",
        "scoring = 'accuracy'\n",
        "\n",
        "x_train, x_test, y_train, y_test = train_test_split(x, y, test_size = 0.20, random_state=seed)\n",
        "\n",
        "np.shape(x_train), np.shape(x_test)"
      ],
      "metadata": {
        "colab": {
          "base_uri": "https://localhost:8080/"
        },
        "id": "Mpds2GJhF_CX",
        "outputId": "0f871d54-c85a-41b2-ec62-3fb6b54521a1"
      },
      "execution_count": 22,
      "outputs": [
        {
          "output_type": "execute_result",
          "data": {
            "text/plain": [
              "((15287, 10), (3822, 10))"
            ]
          },
          "metadata": {},
          "execution_count": 22
        }
      ]
    },
    {
      "cell_type": "code",
      "source": [
        "models = []\n",
        "models.append(('DT', DecisionTreeClassifier()))\n",
        "models.append(('NB', GaussianNB()))\n",
        "models.append(('SVM', SVC()))\n",
        "models.append(('GBM', GradientBoostingClassifier()))\n",
        "models.append(('RF', RandomForestClassifier()))\n",
        "dt = DecisionTreeClassifier()\n",
        "nb = GaussianNB\n",
        "sv = SVC()\n",
        "gb = GradientBoostingClassifier()\n",
        "rf = RandomForestClassifier()\n",
        "\n",
        "results = []\n",
        "names=[]\n",
        "print(\"Performance on training set:\")\n",
        "for name, model in models:\n",
        "  kfold = KFold(n_splits=num_folds,shuffle=True,random_state=seed)\n",
        "  cv_results = cross_val_score(model, x_train, y_train, cv=kfold, scoring='accuracy')\n",
        "  results.append(cv_results)\n",
        "  names.append(name)\n",
        "  msg = \"%s: %f (%f)\" % (name, cv_results.mean(), cv_results.std())\n",
        "  msg += '\\n'\n",
        "  print(msg)"
      ],
      "metadata": {
        "colab": {
          "base_uri": "https://localhost:8080/"
        },
        "id": "Lkv-UOSfKrgs",
        "outputId": "aaa5c572-758f-4d75-b4a0-63b9ea9cf80f"
      },
      "execution_count": 23,
      "outputs": [
        {
          "output_type": "stream",
          "name": "stdout",
          "text": [
            "Performance on training set:\n",
            "DT: 0.542029 (0.010124)\n",
            "\n",
            "NB: 0.591678 (0.008145)\n",
            "\n",
            "SVM: 0.609602 (0.004640)\n",
            "\n",
            "GBM: 0.696473 (0.006793)\n",
            "\n",
            "RF: 0.620070 (0.008973)\n",
            "\n"
          ]
        }
      ]
    },
    {
      "cell_type": "code",
      "source": [
        "fig = plt.figure()\n",
        "fig.suptitle('Algorithm Comparison')\n",
        "ax = fig.add_subplot(111)\n",
        "plt.boxplot(results)\n",
        "ax.set_xticklabels(names)\n",
        "plt.show()"
      ],
      "metadata": {
        "colab": {
          "base_uri": "https://localhost:8080/",
          "height": 478
        },
        "id": "1ajh5NGaNNv9",
        "outputId": "c01df687-af4e-41db-9f80-e9843e928b65"
      },
      "execution_count": 24,
      "outputs": [
        {
          "output_type": "display_data",
          "data": {
            "text/plain": [
              "<Figure size 640x480 with 1 Axes>"
            ],
            "image/png": "[encoded data removed]"
          },
          "metadata": {}
        }
      ]
    },
    {
      "cell_type": "code",
      "source": [
        "best_model = gb\n",
        "best_model.fit(x_train, y_train)\n",
        "y_pred = best_model.predict(x_test)\n",
        "print(\"Best model accuracy on test set:\", accuracy_score(y_test, y_pred))"
      ],
      "metadata": {
        "colab": {
          "base_uri": "https://localhost:8080/"
        },
        "id": "J2SWbzM8RuOn",
        "outputId": "ad8877e0-b008-4943-84ed-3422d003d873"
      },
      "execution_count": 25,
      "outputs": [
        {
          "output_type": "stream",
          "name": "stdout",
          "text": [
            "Best model accuracy on test set: 0.7085295656724229\n"
          ]
        }
      ]
    },
    {
      "cell_type": "markdown",
      "source": [
        "Full Model Evaluation 1: Classification Report"
      ],
      "metadata": {
        "id": "PJxGbgXATmA-"
      }
    },
    {
      "cell_type": "code",
      "source": [
        "print(classification_report(y_test, y_pred))"
      ],
      "metadata": {
        "colab": {
          "base_uri": "https://localhost:8080/"
        },
        "id": "vv7pi66BSu5m",
        "outputId": "d92f4784-9e66-4ba8-b9e5-7f16c72905e7"
      },
      "execution_count": 26,
      "outputs": [
        {
          "output_type": "stream",
          "name": "stdout",
          "text": [
            "              precision    recall  f1-score   support\n",
            "\n",
            "           0       0.70      0.72      0.71      1721\n",
            "           1       0.09      0.01      0.01       176\n",
            "           2       0.72      0.77      0.74      1925\n",
            "\n",
            "    accuracy                           0.71      3822\n",
            "   macro avg       0.50      0.50      0.49      3822\n",
            "weighted avg       0.68      0.71      0.69      3822\n",
            "\n"
          ]
        }
      ]
    },
    {
      "cell_type": "markdown",
      "source": [
        "Full Model Evaluation 2: Confusion Matrix"
      ],
      "metadata": {
        "id": "bJpS5jWzVMEl"
      }
    },
    {
      "cell_type": "code",
      "source": [
        "from sklearn.metrics import confusion_matrix, ConfusionMatrixDisplay\n",
        "\n",
        "cm = confusion_matrix(y_test, y_pred)\n",
        "disp = ConfusionMatrixDisplay(confusion_matrix=cm)\n",
        "disp.plot()\n",
        "plt.show()"
      ],
      "metadata": {
        "colab": {
          "base_uri": "https://localhost:8080/",
          "height": 449
        },
        "id": "8V6VxOuqU-OI",
        "outputId": "05963b8d-749d-4ada-ed83-d27746588179"
      },
      "execution_count": 27,
      "outputs": [
        {
          "output_type": "display_data",
          "data": {
            "text/plain": [
              "<Figure size 640x480 with 2 Axes>"
            ],
            "image/png": "[encoded data removed]"
          },
          "metadata": {}
        }
      ]
    },
    {
      "cell_type": "markdown",
      "source": [
        "Limited Predictive Model (Turns and Moves are removed): "
      ],
      "metadata": {
        "id": "ypqArlvKuUGu"
      }
    },
    {
      "cell_type": "code",
      "source": [
        "x = list(zip(rated, time_increment, white_rating, black_rating, opening_moves, opening_shortname, opening_response, opening_variation))\n",
        "y = list(winner)\n",
        "\n",
        "num_folds = 5\n",
        "seed = 7\n",
        "scoring = 'accuracy'\n",
        "\n",
        "x_train, x_test, y_train, y_test = train_test_split(x, y, test_size = 0.20, random_state=seed)\n",
        "\n",
        "np.shape(x_train), np.shape(x_test)"
      ],
      "metadata": {
        "colab": {
          "base_uri": "https://localhost:8080/"
        },
        "id": "TT3frFt7uTqc",
        "outputId": "a4eb90b9-a160-4f8d-e8a3-fa9f1d4ff606"
      },
      "execution_count": 31,
      "outputs": [
        {
          "output_type": "execute_result",
          "data": {
            "text/plain": [
              "((15287, 8), (3822, 8))"
            ]
          },
          "metadata": {},
          "execution_count": 31
        }
      ]
    },
    {
      "cell_type": "code",
      "source": [
        "results = []\n",
        "names=[]\n",
        "print(\"Performance on training set:\")\n",
        "for name, model in models:\n",
        "  kfold = KFold(n_splits=num_folds,shuffle=True,random_state=seed)\n",
        "  cv_results = cross_val_score(model, x_train, y_train, cv=kfold, scoring='accuracy')\n",
        "  results.append(cv_results)\n",
        "  names.append(name)\n",
        "  msg = \"%s: %f (%f)\" % (name, cv_results.mean(), cv_results.std())\n",
        "  msg += '\\n'\n",
        "  print(msg)"
      ],
      "metadata": {
        "colab": {
          "base_uri": "https://localhost:8080/"
        },
        "id": "1bmIR1RsuYfm",
        "outputId": "317a5f3c-9898-48b8-c5d4-654ebcef0c83"
      },
      "execution_count": 32,
      "outputs": [
        {
          "output_type": "stream",
          "name": "stdout",
          "text": [
            "Performance on training set:\n",
            "DT: 0.525741 (0.007568)\n",
            "\n",
            "NB: 0.598613 (0.005649)\n",
            "\n",
            "SVM: 0.620658 (0.003611)\n",
            "\n",
            "GBM: 0.618107 (0.007265)\n",
            "\n",
            "RF: 0.595277 (0.005999)\n",
            "\n"
          ]
        }
      ]
    },
    {
      "cell_type": "code",
      "source": [
        "fig = plt.figure()\n",
        "fig.suptitle('Algorithm Comparison')\n",
        "ax = fig.add_subplot(111)\n",
        "plt.boxplot(results)\n",
        "ax.set_xticklabels(names)\n",
        "plt.show()"
      ],
      "metadata": {
        "colab": {
          "base_uri": "https://localhost:8080/",
          "height": 478
        },
        "id": "en-oajjcufNu",
        "outputId": "26bdc66d-d093-4f9a-a6b7-afc39d610689"
      },
      "execution_count": 33,
      "outputs": [
        {
          "output_type": "display_data",
          "data": {
            "text/plain": [
              "<Figure size 640x480 with 1 Axes>"
            ],
            "image/png": "[encoded data removed]"
          },
          "metadata": {}
        }
      ]
    },
    {
      "cell_type": "code",
      "source": [
        "best_model = sv\n",
        "best_model.fit(x_train, y_train)\n",
        "y_pred = best_model.predict(x_test)\n",
        "print(\"Best model accuracy on test set:\", accuracy_score(y_test, y_pred))"
      ],
      "metadata": {
        "colab": {
          "base_uri": "https://localhost:8080/"
        },
        "id": "pthH77GqvCRC",
        "outputId": "cd53ec2c-02a3-4a16-ab88-2bcf586baf1c"
      },
      "execution_count": 40,
      "outputs": [
        {
          "output_type": "stream",
          "name": "stdout",
          "text": [
            "Best model accuracy on test set: 0.6216640502354788\n"
          ]
        }
      ]
    },
    {
      "cell_type": "markdown",
      "source": [
        "Limited Model Evaluation 1: Classification Report"
      ],
      "metadata": {
        "id": "aVWQExBdvH8I"
      }
    },
    {
      "cell_type": "code",
      "source": [
        "print(classification_report(y_test, y_pred))"
      ],
      "metadata": {
        "colab": {
          "base_uri": "https://localhost:8080/"
        },
        "id": "a-pmMMVpvHD7",
        "outputId": "4da98049-bcd7-422b-9f67-65b689b96e3b"
      },
      "execution_count": 41,
      "outputs": [
        {
          "output_type": "stream",
          "name": "stdout",
          "text": [
            "              precision    recall  f1-score   support\n",
            "\n",
            "           0       0.63      0.54      0.58      1721\n",
            "           1       0.00      0.00      0.00       176\n",
            "           2       0.62      0.76      0.68      1925\n",
            "\n",
            "    accuracy                           0.62      3822\n",
            "   macro avg       0.42      0.43      0.42      3822\n",
            "weighted avg       0.59      0.62      0.60      3822\n",
            "\n"
          ]
        }
      ]
    },
    {
      "cell_type": "markdown",
      "source": [
        "Limited Model Evaluation 2: Confusion Matrix"
      ],
      "metadata": {
        "id": "SHgAWXbqvUin"
      }
    },
    {
      "cell_type": "code",
      "source": [
        "from sklearn.metrics import confusion_matrix, ConfusionMatrixDisplay\n",
        "\n",
        "cm = confusion_matrix(y_test, y_pred)\n",
        "disp = ConfusionMatrixDisplay(confusion_matrix=cm)\n",
        "disp.plot()\n",
        "plt.show()"
      ],
      "metadata": {
        "colab": {
          "base_uri": "https://localhost:8080/",
          "height": 449
        },
        "id": "OP46fWrmvbqD",
        "outputId": "e9f9df0a-20bb-4ae4-92ca-5e1b3944b4e5"
      },
      "execution_count": 42,
      "outputs": [
        {
          "output_type": "display_data",
          "data": {
            "text/plain": [
              "<Figure size 640x480 with 2 Axes>"
            ],
            "image/png": "[encoded data removed]"
          },
          "metadata": {}
        }
      ]
    }
  ]
}